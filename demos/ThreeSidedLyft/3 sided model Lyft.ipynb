{
 "cells": [
  {
   "cell_type": "markdown",
   "metadata": {},
   "source": [
    "# Lyft Three-Side Market Example\n",
    "\n",
    "To provide a more concrete example of BlockScience's Three-Sided Market Paradigm, as developed by Dr. Zargham, we obtained limited information about Lyft's operations from their SEC Form S-1 IPO Registration Statement. We will use the data provided to provide a tangible example of how the Three-Sided Market operates, while showcasing our cadCAD simulation tool."
   ]
  },
  {
   "cell_type": "raw",
   "metadata": {},
   "source": [
    "![](images/3SidedMarketBasicDemo.png) # Update"
   ]
  },
  {
   "cell_type": "markdown",
   "metadata": {},
   "source": [
    "The ‘Three-Sided Market’ model is for platform business where the product being produced enables transactions between a service provider and service consumer. The reference example for this case is a ride sharing app such as Uber. In this case drivers would be providers and riders would be consumers. The corporation Uber is the producer, and in our three-sided-market that role will be spread to a decentralized community collectively providing all of the functions required for users (providers and consumers) to have an equivalent user experience.\n",
    "\n",
    "The design challenge posed is that of crafting economic mechanisms and policies that ensure that community is able to thrive; like a corporation it must remain financially solvent, but unlike a corporation there need not be expectations of forced growth or outsized profits. Without a need to extract rent to meet corporate goals, the dynamic resource allocation problem required to maintain a healthy economy is while challenging, fundamentally more tractable than a quest for ever growing profits.\n",
    "\n",
    "This work is part of the ongoing economic systems research at BlockScience. We would be thrilled to have you build on our work, but please cite us if you do.\n",
    "\n",
    "Models presented are note predictions or final designs, merely 'what-if' explorations of complex socio-technical systems. Contact media@block.science with interest in our methods and tools."
   ]
  },
  {
   "cell_type": "markdown",
   "metadata": {},
   "source": [
    "## Building a model of the Three-Sided Market\n",
    "\n",
    "To construct our model, we will use our internally developed simulation tool called cadCAD. Below is a description:\n",
    "\n",
    "cadCAD is a differential games based simulation software package for research, validation, and Computer Aided Design of economic systems. An economic system is treated as a state-based model and defined through a set of endogenous and exogenous state variables which are updated through mechanisms and environmental processes, respectively. Behavioral models, which may be deterministic or stochastic, provide the evolution of the system within the action space of the mechanisms. Mathematical formulations of these economic games treat agent utility as derived from the state rather than direct from an action, creating a rich, dynamic modeling framework. Simulations may be run with a range of initial conditions and parameters for states, behaviors, mechanisms, and environmental processes to understand and visualize network behavior under various conditions. Support for A/B testing policies, monte carlo analysis, and other common numerical methods is provided.\n",
    "\n",
    "What that essentially means is cadCAD allows us to use code to help solidify our conceptualized ideas and run them to see if the outcome meets our expectations. We can then iteratively refine our work until we have constructed a model that closely reflects reality at the start of the model, and see how it evolves. We can then use these results to inform business decisions. "
   ]
  },
  {
   "cell_type": "code",
   "execution_count": 2,
   "metadata": {},
   "outputs": [],
   "source": [
    "# import libraries\n",
    "import pandas as pd\n",
    "import numpy as np\n",
    "import matplotlib \n",
    "from tabulate import tabulate\n",
    "from cadCAD.engine import ExecutionMode, ExecutionContext, Executor\n",
    "import LyftConfig\n",
    "from cadCAD import configs\n",
    "import matplotlib.pyplot as plt\n",
    "\n",
    "%matplotlib inline\n",
    "\n",
    "exec_mode = ExecutionMode()"
   ]
  },
  {
   "cell_type": "markdown",
   "metadata": {},
   "source": [
    "## Importing Lyft SEC Data"
   ]
  },
  {
   "cell_type": "code",
   "execution_count": 53,
   "metadata": {},
   "outputs": [],
   "source": [
    "financial = pd.read_excel('data/SECData.xlsx',sheet_name = 'Financial',header=1)\n",
    "rider = pd.read_excel('data/SECData.xlsx',sheet_name = 'RiderData',header=1)"
   ]
  },
  {
   "cell_type": "markdown",
   "metadata": {},
   "source": [
    "Below we view the data. All numbers are in millions EXCEPT for Revenue per Active Rider which is as seen."
   ]
  },
  {
   "cell_type": "code",
   "execution_count": 33,
   "metadata": {},
   "outputs": [
    {
     "data": {
      "text/html": [
       "<div>\n",
       "<style scoped>\n",
       "    .dataframe tbody tr th:only-of-type {\n",
       "        vertical-align: middle;\n",
       "    }\n",
       "\n",
       "    .dataframe tbody tr th {\n",
       "        vertical-align: top;\n",
       "    }\n",
       "\n",
       "    .dataframe thead th {\n",
       "        text-align: right;\n",
       "    }\n",
       "</style>\n",
       "<table border=\"1\" class=\"dataframe\">\n",
       "  <thead>\n",
       "    <tr style=\"text-align: right;\">\n",
       "      <th></th>\n",
       "      <th>Date</th>\n",
       "      <th>Riders</th>\n",
       "      <th>Drivers</th>\n",
       "      <th>Bookings</th>\n",
       "      <th>Revenue</th>\n",
       "      <th>Active Riders</th>\n",
       "      <th>Net Income</th>\n",
       "      <th>Contribution</th>\n",
       "      <th>Revenue as a Percentage of Bookings</th>\n",
       "      <th>Contribution Margin</th>\n",
       "    </tr>\n",
       "  </thead>\n",
       "  <tbody>\n",
       "    <tr>\n",
       "      <th>0</th>\n",
       "      <td>2018</td>\n",
       "      <td>30.7</td>\n",
       "      <td>1.9</td>\n",
       "      <td>8054.4</td>\n",
       "      <td>2200.0</td>\n",
       "      <td>18.6</td>\n",
       "      <td>-911.3</td>\n",
       "      <td>920.8</td>\n",
       "      <td>26.8</td>\n",
       "      <td>42.7</td>\n",
       "    </tr>\n",
       "    <tr>\n",
       "      <th>1</th>\n",
       "      <td>2017</td>\n",
       "      <td>NaN</td>\n",
       "      <td>NaN</td>\n",
       "      <td>4586.7</td>\n",
       "      <td>1100.0</td>\n",
       "      <td>NaN</td>\n",
       "      <td>-688.3</td>\n",
       "      <td>400.9</td>\n",
       "      <td>23.1</td>\n",
       "      <td>37.8</td>\n",
       "    </tr>\n",
       "    <tr>\n",
       "      <th>2</th>\n",
       "      <td>2016</td>\n",
       "      <td>NaN</td>\n",
       "      <td>NaN</td>\n",
       "      <td>1904.7</td>\n",
       "      <td>343.3</td>\n",
       "      <td>NaN</td>\n",
       "      <td>-682.0</td>\n",
       "      <td>82.0</td>\n",
       "      <td>18.0</td>\n",
       "      <td>23.9</td>\n",
       "    </tr>\n",
       "  </tbody>\n",
       "</table>\n",
       "</div>"
      ],
      "text/plain": [
       "   Date  Riders  Drivers  Bookings  Revenue  Active Riders  Net Income  \\\n",
       "0  2018    30.7      1.9    8054.4   2200.0           18.6      -911.3   \n",
       "1  2017     NaN      NaN    4586.7   1100.0            NaN      -688.3   \n",
       "2  2016     NaN      NaN    1904.7    343.3            NaN      -682.0   \n",
       "\n",
       "   Contribution  Revenue as a Percentage of Bookings  Contribution Margin  \n",
       "0         920.8                                 26.8                 42.7  \n",
       "1         400.9                                 23.1                 37.8  \n",
       "2          82.0                                 18.0                 23.9  "
      ]
     },
     "execution_count": 33,
     "metadata": {},
     "output_type": "execute_result"
    }
   ],
   "source": [
    "financial"
   ]
  },
  {
   "cell_type": "code",
   "execution_count": 34,
   "metadata": {},
   "outputs": [],
   "source": [
    "financial.fillna(0,inplace=True)\n",
    "financialSubset = financial[['Date','Bookings','Revenue','Net Income','Contribution']]"
   ]
  },
  {
   "cell_type": "code",
   "execution_count": 54,
   "metadata": {},
   "outputs": [
    {
     "data": {
      "text/html": [
       "<div>\n",
       "<style scoped>\n",
       "    .dataframe tbody tr th:only-of-type {\n",
       "        vertical-align: middle;\n",
       "    }\n",
       "\n",
       "    .dataframe tbody tr th {\n",
       "        vertical-align: top;\n",
       "    }\n",
       "\n",
       "    .dataframe thead th {\n",
       "        text-align: right;\n",
       "    }\n",
       "</style>\n",
       "<table border=\"1\" class=\"dataframe\">\n",
       "  <thead>\n",
       "    <tr style=\"text-align: right;\">\n",
       "      <th></th>\n",
       "      <th>Date</th>\n",
       "      <th>Active Riders</th>\n",
       "      <th>Revenue per Active Rider</th>\n",
       "      <th>Rides</th>\n",
       "    </tr>\n",
       "  </thead>\n",
       "  <tbody>\n",
       "    <tr>\n",
       "      <th>0</th>\n",
       "      <td>2016-03-31</td>\n",
       "      <td>3.5</td>\n",
       "      <td>15.88</td>\n",
       "      <td>29.0</td>\n",
       "    </tr>\n",
       "    <tr>\n",
       "      <th>1</th>\n",
       "      <td>2016-06-30</td>\n",
       "      <td>4.5</td>\n",
       "      <td>14.11</td>\n",
       "      <td>36.5</td>\n",
       "    </tr>\n",
       "    <tr>\n",
       "      <th>2</th>\n",
       "      <td>2016-09-30</td>\n",
       "      <td>5.7</td>\n",
       "      <td>18.03</td>\n",
       "      <td>44.3</td>\n",
       "    </tr>\n",
       "    <tr>\n",
       "      <th>3</th>\n",
       "      <td>2016-12-31</td>\n",
       "      <td>6.6</td>\n",
       "      <td>18.53</td>\n",
       "      <td>52.6</td>\n",
       "    </tr>\n",
       "    <tr>\n",
       "      <th>4</th>\n",
       "      <td>2017-03-31</td>\n",
       "      <td>8.1</td>\n",
       "      <td>21.42</td>\n",
       "      <td>70.4</td>\n",
       "    </tr>\n",
       "    <tr>\n",
       "      <th>5</th>\n",
       "      <td>2017-06-30</td>\n",
       "      <td>9.4</td>\n",
       "      <td>25.29</td>\n",
       "      <td>85.8</td>\n",
       "    </tr>\n",
       "    <tr>\n",
       "      <th>6</th>\n",
       "      <td>2017-09-30</td>\n",
       "      <td>11.4</td>\n",
       "      <td>26.59</td>\n",
       "      <td>103.1</td>\n",
       "    </tr>\n",
       "    <tr>\n",
       "      <th>7</th>\n",
       "      <td>2017-12-31</td>\n",
       "      <td>12.6</td>\n",
       "      <td>27.34</td>\n",
       "      <td>116.3</td>\n",
       "    </tr>\n",
       "    <tr>\n",
       "      <th>8</th>\n",
       "      <td>2018-03-31</td>\n",
       "      <td>14.0</td>\n",
       "      <td>28.27</td>\n",
       "      <td>132.5</td>\n",
       "    </tr>\n",
       "    <tr>\n",
       "      <th>9</th>\n",
       "      <td>2018-06-30</td>\n",
       "      <td>15.5</td>\n",
       "      <td>32.67</td>\n",
       "      <td>146.3</td>\n",
       "    </tr>\n",
       "    <tr>\n",
       "      <th>10</th>\n",
       "      <td>2018-09-30</td>\n",
       "      <td>17.4</td>\n",
       "      <td>33.65</td>\n",
       "      <td>162.2</td>\n",
       "    </tr>\n",
       "    <tr>\n",
       "      <th>11</th>\n",
       "      <td>2018-12-31</td>\n",
       "      <td>18.6</td>\n",
       "      <td>36.04</td>\n",
       "      <td>178.4</td>\n",
       "    </tr>\n",
       "  </tbody>\n",
       "</table>\n",
       "</div>"
      ],
      "text/plain": [
       "         Date  Active Riders  Revenue per Active Rider  Rides\n",
       "0  2016-03-31            3.5                     15.88   29.0\n",
       "1  2016-06-30            4.5                     14.11   36.5\n",
       "2  2016-09-30            5.7                     18.03   44.3\n",
       "3  2016-12-31            6.6                     18.53   52.6\n",
       "4  2017-03-31            8.1                     21.42   70.4\n",
       "5  2017-06-30            9.4                     25.29   85.8\n",
       "6  2017-09-30           11.4                     26.59  103.1\n",
       "7  2017-12-31           12.6                     27.34  116.3\n",
       "8  2018-03-31           14.0                     28.27  132.5\n",
       "9  2018-06-30           15.5                     32.67  146.3\n",
       "10 2018-09-30           17.4                     33.65  162.2\n",
       "11 2018-12-31           18.6                     36.04  178.4"
      ]
     },
     "execution_count": 54,
     "metadata": {},
     "output_type": "execute_result"
    }
   ],
   "source": [
    "rider"
   ]
  },
  {
   "cell_type": "markdown",
   "metadata": {},
   "source": [
    "## Build individual components \n",
    "\n",
    "Before we will create a holistic model that takes into account all of the individual components and how they interact in our 'dynamic system', we will construct below individual components and explain their structure. \n",
    "\n",
    "### Transactions\n",
    "First, we will construct our Transactions function, which will be the unit that drives the rest of the model. To start, we plot the Rides data (in millions) from the SEC obtained data on Lyft"
   ]
  },
  {
   "cell_type": "code",
   "execution_count": 55,
   "metadata": {},
   "outputs": [
    {
     "data": {
      "text/plain": [
       "<matplotlib.axes._subplots.AxesSubplot at 0x7ffa4809a1d0>"
      ]
     },
     "execution_count": 55,
     "metadata": {},
     "output_type": "execute_result"
    },
    {
     "data": {
      "image/png": "[encoded data removed]",
      "text/plain": [
       "<Figure size 432x288 with 1 Axes>"
      ]
     },
     "metadata": {
      "needs_background": "light"
     },
     "output_type": "display_data"
    }
   ],
   "source": [
    "#rider.plot(x='Date',y='Rides')\n",
    "rider.plot(x='Date',y=['Active Riders', 'Revenue per Active Rider', 'Rides'])"
   ]
  },
  {
   "cell_type": "code",
   "execution_count": 24,
   "metadata": {},
   "outputs": [
    {
     "data": {
      "text/plain": [
       "<matplotlib.axes._subplots.AxesSubplot at 0x7ffa492e4d30>"
      ]
     },
     "execution_count": 24,
     "metadata": {},
     "output_type": "execute_result"
    },
    {
     "data": {
      "image/png": "[encoded data removed]",
      "text/plain": [
       "<Figure size 432x288 with 1 Axes>"
      ]
     },
     "metadata": {
      "needs_background": "light"
     },
     "output_type": "display_data"
    }
   ],
   "source": [
    "rider.plot.kde()"
   ]
  },
  {
   "cell_type": "code",
   "execution_count": 58,
   "metadata": {},
   "outputs": [
    {
     "ename": "TypeError",
     "evalue": "ufunc add cannot use operands with types dtype('<M8[ns]') and dtype('float64')",
     "output_type": "error",
     "traceback": [
      "\u001b[0;31m---------------------------------------------------------------------------\u001b[0m",
      "\u001b[0;31mTypeError\u001b[0m                                 Traceback (most recent call last)",
      "\u001b[0;32m<ipython-input-58-0d022192c5b9>\u001b[0m in \u001b[0;36m<module>\u001b[0;34m\u001b[0m\n\u001b[1;32m      2\u001b[0m \u001b[0my\u001b[0m\u001b[0;34m=\u001b[0m\u001b[0mrider\u001b[0m\u001b[0;34m.\u001b[0m\u001b[0mRides\u001b[0m\u001b[0;34m.\u001b[0m\u001b[0mvalues\u001b[0m\u001b[0;34m\u001b[0m\u001b[0;34m\u001b[0m\u001b[0m\n\u001b[1;32m      3\u001b[0m \u001b[0;34m\u001b[0m\u001b[0m\n\u001b[0;32m----> 4\u001b[0;31m \u001b[0mp\u001b[0m \u001b[0;34m=\u001b[0m \u001b[0mnp\u001b[0m\u001b[0;34m.\u001b[0m\u001b[0mpolyfit\u001b[0m\u001b[0;34m(\u001b[0m\u001b[0mx\u001b[0m\u001b[0;34m,\u001b[0m \u001b[0my\u001b[0m\u001b[0;34m,\u001b[0m \u001b[0mdeg\u001b[0m \u001b[0;34m=\u001b[0m \u001b[0;36m2\u001b[0m\u001b[0;34m)\u001b[0m\u001b[0;34m\u001b[0m\u001b[0;34m\u001b[0m\u001b[0m\n\u001b[0m\u001b[1;32m      5\u001b[0m \u001b[0mf\u001b[0m \u001b[0;34m=\u001b[0m \u001b[0mnp\u001b[0m\u001b[0;34m.\u001b[0m\u001b[0mpoly1d\u001b[0m\u001b[0;34m(\u001b[0m\u001b[0mp\u001b[0m\u001b[0;34m)\u001b[0m\u001b[0;34m\u001b[0m\u001b[0;34m\u001b[0m\u001b[0m\n\u001b[1;32m      6\u001b[0m \u001b[0;34m\u001b[0m\u001b[0m\n",
      "\u001b[0;32m~/anaconda3/lib/python3.6/site-packages/numpy/lib/polynomial.py\u001b[0m in \u001b[0;36mpolyfit\u001b[0;34m(x, y, deg, rcond, full, w, cov)\u001b[0m\n\u001b[1;32m    539\u001b[0m     \"\"\"\n\u001b[1;32m    540\u001b[0m     \u001b[0morder\u001b[0m \u001b[0;34m=\u001b[0m \u001b[0mint\u001b[0m\u001b[0;34m(\u001b[0m\u001b[0mdeg\u001b[0m\u001b[0;34m)\u001b[0m \u001b[0;34m+\u001b[0m \u001b[0;36m1\u001b[0m\u001b[0;34m\u001b[0m\u001b[0;34m\u001b[0m\u001b[0m\n\u001b[0;32m--> 541\u001b[0;31m     \u001b[0mx\u001b[0m \u001b[0;34m=\u001b[0m \u001b[0mNX\u001b[0m\u001b[0;34m.\u001b[0m\u001b[0masarray\u001b[0m\u001b[0;34m(\u001b[0m\u001b[0mx\u001b[0m\u001b[0;34m)\u001b[0m \u001b[0;34m+\u001b[0m \u001b[0;36m0.0\u001b[0m\u001b[0;34m\u001b[0m\u001b[0;34m\u001b[0m\u001b[0m\n\u001b[0m\u001b[1;32m    542\u001b[0m     \u001b[0my\u001b[0m \u001b[0;34m=\u001b[0m \u001b[0mNX\u001b[0m\u001b[0;34m.\u001b[0m\u001b[0masarray\u001b[0m\u001b[0;34m(\u001b[0m\u001b[0my\u001b[0m\u001b[0;34m)\u001b[0m \u001b[0;34m+\u001b[0m \u001b[0;36m0.0\u001b[0m\u001b[0;34m\u001b[0m\u001b[0;34m\u001b[0m\u001b[0m\n\u001b[1;32m    543\u001b[0m \u001b[0;34m\u001b[0m\u001b[0m\n",
      "\u001b[0;31mTypeError\u001b[0m: ufunc add cannot use operands with types dtype('<M8[ns]') and dtype('float64')"
     ]
    }
   ],
   "source": [
    "x=rider.Date.values\n",
    "y=rider.Rides.values\n",
    "\n",
    "p = np.polyfit(x, y, deg = 2)\n",
    "f = np.poly1d(p)\n",
    "\n",
    "# calculate new x's and y's\n",
    "x_new = np.linspace(x[0], x[-1], 50)\n",
    "y_new = f(x_new)\n",
    "\n",
    "plt.plot(x,y,label='Original Data')\n",
    "plt.plot(x_new, y_new, label='Fitted line')\n",
    "plt.legend()"
   ]
  },
  {
   "cell_type": "code",
   "execution_count": 60,
   "metadata": {},
   "outputs": [
    {
     "name": "stdout",
     "output_type": "stream",
     "text": [
      "          2\n",
      "5.58e-33 x - 1.498e-14 x + 1e+04\n"
     ]
    }
   ],
   "source": [
    "print(f)"
   ]
  },
  {
   "cell_type": "code",
   "execution_count": 29,
   "metadata": {},
   "outputs": [
    {
     "data": {
      "text/plain": [
       "[(0, 10499.95),\n",
       " Text(0, 0.5, 'volume'),\n",
       " Text(0.5, 0, 'time step'),\n",
       " Text(0.5, 1.0, 'Stochastic Growth Process')]"
      ]
     },
     "execution_count": 29,
     "metadata": {},
     "output_type": "execute_result"
    },
    {
     "data": {
      "image/png": "[encoded data removed]",
      "text/plain": [
       "<Figure size 432x288 with 1 Axes>"
      ]
     },
     "metadata": {
      "needs_background": "light"
     },
     "output_type": "display_data"
    }
   ],
   "source": [
    "a = 5.58e-33\n",
    "b = 1.498e-14 \n",
    "c = 1e+04\n",
    "\n",
    "length = range(360)\n",
    "v = np.zeros(length[-1])\n",
    "v[0] = 1\n",
    "for i in length[1:-1]:\n",
    "    v[i] = a*i - b*i + c\n",
    "\n",
    "fig, ax = plt.subplots( nrows=1, ncols=1 )\n",
    "ax.plot(v,label='growth rate')\n",
    "ax.set(xlabel='time step', ylabel='volume',\n",
    "       title='Stochastic Growth Process',ylim = 0)\n"
   ]
  },
  {
   "cell_type": "markdown",
   "metadata": {},
   "source": [
    "## Financials"
   ]
  },
  {
   "cell_type": "code",
   "execution_count": null,
   "metadata": {},
   "outputs": [],
   "source": [
    "#financial.plot(x='Date',y='Revenue')\n",
    "financialSubset.plot(x='Date',y=['Bookings','Revenue','Net Income','Contribution'])"
   ]
  },
  {
   "cell_type": "code",
   "execution_count": null,
   "metadata": {},
   "outputs": [],
   "source": [
    "financialSubset.plot.kde()"
   ]
  },
  {
   "cell_type": "code",
   "execution_count": null,
   "metadata": {},
   "outputs": [],
   "source": [
    "eta = .04\n",
    "tampw = 10000 \n",
    "\n",
    "length = range(360)\n",
    "v = np.zeros(length[-1])\n",
    "v[0] = 1\n",
    "for i in length[1:-1]:\n",
    "    v[i] = v[i-1]*(1+2*eta*np.random.rand()*(1-v[i-1]/tampw))\n",
    "\n",
    "fig, ax = plt.subplots( nrows=1, ncols=1 )\n",
    "ax.plot(v,label='growth rate')\n",
    "ax.set(xlabel='time step', ylabel='volume',\n",
    "       title='Stochastic Growth Process',ylim = 0)\n"
   ]
  },
  {
   "cell_type": "markdown",
   "metadata": {},
   "source": [
    "### Product Cost\n",
    "Create a random process to represent the growth of the cost of production, due to inflation, etc over time."
   ]
  },
  {
   "cell_type": "code",
   "execution_count": null,
   "metadata": {},
   "outputs": [],
   "source": [
    "alpha = .5 \n",
    "beta = .2\n",
    "length = range(360)\n",
    "p = np.zeros(length[-1])\n",
    "p[0] = .5\n",
    "for i in length[1:-1]:\n",
    "    p[i] = alpha * p[i-1]+beta*np.random.rand()\n",
    "    \n",
    "fig, ax = plt.subplots(nrows=1, ncols=1 )\n",
    "ax.plot(p,label='cost')\n",
    "ax.set(xlabel='time step', ylabel='cost',\n",
    "       title='Product Cost Stochastic Process',ylim = 0)\n",
    "\n",
    "#fig = USDToSDR.plot(grid=True).get_figure()\n",
    "fig.savefig('images/productCost.png')\n",
    "# plt.plot(p,label='cost')\n",
    "# plt.title('Product Cost Stochastic Process')\n",
    "# plt.xlabel('time step')\n",
    "# plt.ylabel('volume')\n",
    "# plt.ylim(0)\n",
    "# plt.legend()"
   ]
  },
  {
   "cell_type": "code",
   "execution_count": null,
   "metadata": {},
   "outputs": [],
   "source": [
    "plot = pd.DataFrame({'Stochastic Growth Process':v,'Product Cost Stochastic Process':p})\n",
    "\n",
    "fig, axes = plt.subplots(nrows=1, ncols=2,figsize=(15, 5),sharey=False)\n",
    "fig.tight_layout(pad=8)\n",
    "#fig.suptitle(\"Components\", fontsize=16)\n",
    "\n",
    "plot.plot(y='Stochastic Growth Process',title='Stochastic Growth Process',logy=False,ax=axes[0],grid=True)\n",
    "plot.plot(y='Product Cost Stochastic Process',title='Product Cost Stochastic Process',logy=False,ax=axes[1],grid=True)\n",
    "\n",
    "fig.savefig('images/components.eps', format='eps', dpi=300)"
   ]
  },
  {
   "cell_type": "markdown",
   "metadata": {},
   "source": [
    "### Run the cadCAD model of our ecosystem \n",
    "See the attached file called threeSidedConfig.py for the full modeling and policy details."
   ]
  },
  {
   "cell_type": "code",
   "execution_count": 19,
   "metadata": {},
   "outputs": [
    {
     "name": "stdout",
     "output_type": "stream",
     "text": [
      "single_proc: [<cadCAD.configuration.Configuration object at 0x7ffa80817898>]\n"
     ]
    },
    {
     "name": "stderr",
     "output_type": "stream",
     "text": [
      "/home/aclarkdata/anaconda3/lib/python3.6/site-packages/cadCAD/utils/__init__.py:89: FutureWarning: The use of a dictionary to describe Partial State Update Blocks will be deprecated. Use a list instead.\n",
      "  FutureWarning)\n"
     ]
    }
   ],
   "source": [
    "# Run Cad^2\n",
    "\n",
    "first_config = configs \n",
    "single_proc_ctx = ExecutionContext(context=exec_mode.single_proc)\n",
    "run = Executor(exec_context=single_proc_ctx, configs=first_config)\n",
    "\n",
    "raw_result, tensor_field = run.main()\n",
    "df = pd.DataFrame(raw_result)"
   ]
  },
  {
   "cell_type": "markdown",
   "metadata": {},
   "source": [
    "## Results\n",
    "We look the results at the beginning and the ending of our model to see we started on 2019-03-01 and allowed our model to evolve until 2020-02-24. "
   ]
  },
  {
   "cell_type": "code",
   "execution_count": null,
   "metadata": {},
   "outputs": [],
   "source": [
    "df = df.round(2)"
   ]
  },
  {
   "cell_type": "code",
   "execution_count": null,
   "metadata": {},
   "outputs": [],
   "source": [
    "#df.head(5).to_csv('testHead.csv')\n",
    "#df.tail(5).to_csv('testTail.csv')"
   ]
  },
  {
   "cell_type": "code",
   "execution_count": 15,
   "metadata": {},
   "outputs": [
    {
     "ename": "NameError",
     "evalue": "name 'df' is not defined",
     "output_type": "error",
     "traceback": [
      "\u001b[0;31m---------------------------------------------------------------------------\u001b[0m",
      "\u001b[0;31mNameError\u001b[0m                                 Traceback (most recent call last)",
      "\u001b[0;32m<ipython-input-15-fcb21af36c2f>\u001b[0m in \u001b[0;36m<module>\u001b[0;34m\u001b[0m\n\u001b[0;32m----> 1\u001b[0;31m \u001b[0mdf\u001b[0m\u001b[0;34m.\u001b[0m\u001b[0mtail\u001b[0m\u001b[0;34m(\u001b[0m\u001b[0;36m5\u001b[0m\u001b[0;34m)\u001b[0m\u001b[0;34m\u001b[0m\u001b[0;34m\u001b[0m\u001b[0m\n\u001b[0m",
      "\u001b[0;31mNameError\u001b[0m: name 'df' is not defined"
     ]
    }
   ],
   "source": [
    "df.tail(5)"
   ]
  },
  {
   "cell_type": "markdown",
   "metadata": {},
   "source": [
    "We examine the Fiat Reserve in more depth and fit a line a to the plot to show the trajectory. As we can see from the plot below, the fiat reserve is increasing throughout the time period studied. "
   ]
  },
  {
   "cell_type": "code",
   "execution_count": null,
   "metadata": {},
   "outputs": [],
   "source": [
    "coefficients, residuals, _, _, _ = np.polyfit(range(len(df['fiat_reserve'])),df['fiat_reserve'],1,full=True)\n",
    "plt.plot(df['fiat_reserve'],label='fiat_reserve')\n",
    "plt.plot([coefficients[0]*x + coefficients[1] for x in range(len(df['fiat_reserve']))],label='trend line')\n",
    "plt.title('Fiat Reserve')\n",
    "plt.xlabel('time step')\n",
    "plt.ylabel('volume')\n",
    "#plt.ylim(0)\n",
    "plt.legend()"
   ]
  },
  {
   "cell_type": "markdown",
   "metadata": {},
   "source": [
    "We also examine the transaction volume, and as it is an exogenous (external to the system) process, it follows the same s-shaped curve we built as an individual component above. "
   ]
  },
  {
   "cell_type": "code",
   "execution_count": null,
   "metadata": {},
   "outputs": [],
   "source": [
    "coefficients, residuals, _, _, _ = np.polyfit(range(len(df['tx_volume'])),df['tx_volume'],1,full=True)\n",
    "plt.plot(df['tx_volume'],label='tx_volume')\n",
    "plt.plot([coefficients[0]*x + coefficients[1] for x in range(len(df['tx_volume']))],label='trend line')\n",
    "plt.title('Transaction Volume')\n",
    "plt.xlabel('time step')\n",
    "plt.ylabel('volume')\n",
    "plt.ylim(0)\n",
    "plt.legend()"
   ]
  },
  {
   "cell_type": "code",
   "execution_count": null,
   "metadata": {},
   "outputs": [],
   "source": [
    "coefficients, residuals, _, _, _ = np.polyfit(range(len(df['seed_money'])),df['seed_money'],1,full=True)\n",
    "plt.plot(df['seed_money'],label='seed_money')\n",
    "plt.plot([coefficients[0]*x + coefficients[1] for x in range(len(df['seed_money']))],label='trend line')\n",
    "plt.title('Seed Money')\n",
    "plt.xlabel('time step')\n",
    "plt.ylabel('$')\n",
    "plt.ylim(0)\n",
    "plt.legend()"
   ]
  },
  {
   "cell_type": "code",
   "execution_count": null,
   "metadata": {},
   "outputs": [],
   "source": [
    "coefficients, residuals, _, _, _ = np.polyfit(range(len(df['revenue'])),df['revenue'],1,full=True)\n",
    "plt.plot(df['revenue'],label='revenue')\n",
    "plt.plot([coefficients[0]*x + coefficients[1] for x in range(len(df['revenue']))],label='trend line')\n",
    "plt.title('Revenue')\n",
    "plt.xlabel('time step')\n",
    "plt.ylabel('$')\n",
    "plt.ylim(0)\n",
    "plt.legend()"
   ]
  },
  {
   "cell_type": "markdown",
   "metadata": {},
   "source": [
    "Finally, we examine the Cost of Production. It resembles the component we built in the first section, but is a little more stable, with a downward trend. Initialy, we had a starting value of 2.0 for the cost of production, with a quick drop and relatively stable with a median value of 0.39."
   ]
  },
  {
   "cell_type": "code",
   "execution_count": null,
   "metadata": {},
   "outputs": [],
   "source": [
    "df['product_cost'].describe()"
   ]
  },
  {
   "cell_type": "code",
   "execution_count": null,
   "metadata": {},
   "outputs": [],
   "source": [
    "coefficients, residuals, _, _, _ = np.polyfit(range(len(df['product_cost'])),df['product_cost'],1,full=True)\n",
    "plt.plot(df['product_cost'],label='Product Cost')\n",
    "plt.plot([coefficients[0]*x + coefficients[1] for x in range(len(df['product_cost']))],label='trend line')\n",
    "plt.title('Product Cost')\n",
    "plt.xlabel('time step')\n",
    "plt.ylabel('volume')\n",
    "#plt.ylim(0)\n",
    "plt.legend()"
   ]
  },
  {
   "cell_type": "code",
   "execution_count": null,
   "metadata": {},
   "outputs": [],
   "source": [
    "fig, axes = plt.subplots(nrows=3, ncols=2,figsize=(15, 15),sharey=False)\n",
    "fig.tight_layout(pad=8)\n",
    "#fig.suptitle(\"cadCAD Simulation Results\", fontsize=16)\n",
    "\n",
    "df.plot(y='fiat_reserve',title='Fiat Reserve',logy=False,ax=axes[0,0],grid=True)\n",
    "df.plot(y='seed_money',title='Seed Money Inflow',logy=False,ax=axes[0,1],grid=True)\n",
    "df.plot(y='overhead_cost',title='Overhead Cost ',logy=False,ax=axes[1,0],grid=True)\n",
    "df.plot(y='product_cost',title='Product Cost',logy=False,ax=axes[1,1],grid=True)\n",
    "df.plot(y='revenue',title='Revenue',logy=False,ax=axes[2,0],grid=True)\n",
    "df.plot(y='tx_volume',title='TX Volume',logy=False,ax=axes[2,1],grid=True)\n",
    "\n",
    "\n",
    "fig.savefig('images/Results.eps', format='eps', dpi=300)"
   ]
  },
  {
   "cell_type": "markdown",
   "metadata": {},
   "source": [
    "## Conclusion\n",
    "\n",
    "We have walked through a basic dynamical system ecosystem model taking in some external variables and see how the system responds to these signals and evolves. We observe that the policy and pricing incentives built into the model represent a successful business model. Now, this is an extremely simplistic model and lacks more rigorous assumptions and testing, but provides an excellent jumping off point for showing how we model dynamic complex systems. Our cadCAD tool and methodology allow us to represent a company's current business model adequately and future desired state and help make informed, rigorously tested decisions on how to get you from point a to point b."
   ]
  }
 ],
 "metadata": {
  "kernelspec": {
   "display_name": "Python 3",
   "language": "python",
   "name": "python3"
  },
  "language_info": {
   "codemirror_mode": {
    "name": "ipython",
    "version": 3
   },
   "file_extension": ".py",
   "mimetype": "text/x-python",
   "name": "python",
   "nbconvert_exporter": "python",
   "pygments_lexer": "ipython3",
   "version": "3.6.7"
  }
 },
 "nbformat": 4,
 "nbformat_minor": 2
}
