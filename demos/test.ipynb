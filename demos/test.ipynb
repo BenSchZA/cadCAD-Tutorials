{
 "cells": [
  {
   "cell_type": "code",
   "execution_count": null,
   "metadata": {
    "collapsed": true
   },
   "outputs": [],
   "source": [
    "import pandas as pd\n",
    "\n",
    "# The following imports NEED to be in the exact order\n",
    "from SimCAD.engine import ExecutionMode, ExecutionContext, Executor\n",
    "from simulations.validation import config1, config2\n",
    "from SimCAD import configs\n",
    "\n",
    "exec_mode = ExecutionMode()"
   ]
  },
  {
   "cell_type": "code",
   "execution_count": null,
   "metadata": {},
   "outputs": [],
   "source": [
    "print(\"Simulation Execution 1\")\n",
    "print()\n",
    "first_config = [configs[0]] # from config1\n",
    "single_proc_ctx = ExecutionContext(context=exec_mode.single_proc)\n",
    "run1 = Executor(exec_context=single_proc_ctx, configs=first_config)\n",
    "run1_raw_result, raw_tensor_field = run1.main()\n",
    "result = pd.DataFrame(run1_raw_result)\n",
    "tensor_field = pd.DataFrame(raw_tensor_field)"
   ]
  },
  {
   "cell_type": "code",
   "execution_count": null,
   "metadata": {},
   "outputs": [],
   "source": [
    "print(\"Tensor Field:\")\n",
    "tensor_field"
   ]
  },
  {
   "cell_type": "code",
   "execution_count": null,
   "metadata": {},
   "outputs": [],
   "source": [
    "print(\"Output:\")\n",
    "result"
   ]
  },
  {
   "cell_type": "code",
   "execution_count": null,
   "metadata": {},
   "outputs": [],
   "source": [
    "print(\"Simulation Execution 2: Pairwise Execution\")\n",
    "print()\n",
    "multi_proc_ctx = ExecutionContext(context=exec_mode.multi_proc)\n",
    "run2 = Executor(exec_context=multi_proc_ctx, configs=configs)\n",
    "results = []\n",
    "tensor_fields = []\n",
    "for raw_result, raw_tensor_field in run2.main():\n",
    "    results.append(pd.DataFrame(raw_result))\n",
    "    tensor_fields.append(pd.DataFrame(raw_tensor_field))"
   ]
  },
  {
   "cell_type": "code",
   "execution_count": null,
   "metadata": {},
   "outputs": [],
   "source": [
    "\n",
    "print(\"Tensor Field A:\")\n",
    "tensor_fields[0]"
   ]
  },
  {
   "cell_type": "code",
   "execution_count": null,
   "metadata": {},
   "outputs": [],
   "source": [
    "print(\"Output A:\")\n",
    "results[0]"
   ]
  },
  {
   "cell_type": "code",
   "execution_count": null,
   "metadata": {},
   "outputs": [],
   "source": [
    "print(\"Tensor Field B:\")\n",
    "tensor_fields[1]"
   ]
  },
  {
   "cell_type": "code",
   "execution_count": null,
   "metadata": {},
   "outputs": [],
   "source": [
    "print(\"Output B:\")\n",
    "results[1]"
   ]
  }
 ],
 "metadata": {
  "kernelspec": {
   "display_name": "Python 2",
   "language": "python",
   "name": "python2"
  },
  "language_info": {
   "codemirror_mode": {
    "name": "ipython",
    "version": 2
   },
   "file_extension": ".py",
   "mimetype": "text/x-python",
   "name": "python",
   "nbconvert_exporter": "python",
   "pygments_lexer": "ipython2",
   "version": "2.7.6"
  }
 },
 "nbformat": 4,
 "nbformat_minor": 0
}
