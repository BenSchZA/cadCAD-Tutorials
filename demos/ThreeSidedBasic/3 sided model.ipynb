{
 "cells": [
  {
   "cell_type": "markdown",
   "metadata": {},
   "source": [
    "# Three-Side Market Basic"
   ]
  },
  {
   "cell_type": "markdown",
   "metadata": {},
   "source": [
    "![](images/3SidedMarketBasicDemo.png)"
   ]
  },
  {
   "cell_type": "markdown",
   "metadata": {},
   "source": [
    "The ‘Three-Sided Market’ model is for platform business where the product being produced enables transactions between a service provider and service consumer. The reference example for this case is a ride sharing app such as Uber. In this case drivers would be providers and riders would be consumers. The corporation Uber is the producer, and in our three-sided-market that role will be spread to a decentralized community collectively providing all of the functions required for users (providers and consumers) to have an equivalent user experience. \n",
    "\n",
    "This work is part of the ongoing economic systems research at BlockScience. We would be thrilled to have you build on our work, but please cite us if you do. \n",
    "Models presented are not predictions or final designs, merely 'what-if' explorations of complex sociotechnical systems. Contact media@block.science with interest in our methods and tools."
   ]
  },
  {
   "cell_type": "markdown",
   "metadata": {},
   "source": [
    "## Building a Model of a Three-Sided Market\n",
    "\n",
    "To construct our model, we will use our internally developed simulation tool called cadCAD.\n",
    "\n",
    "cadCAD is a differential games based simulation software package for research, validation, and Computer Aided Design of economic systems created by BlockScience. An economic system is treated as a state-based model and defined through a set of endogenous and exogenous state variables which are updated through mechanisms and environmental processes, respectively. Behavioral models, which may be deterministic or stochastic, provide the evolution of the system within the action space of the mechanisms. Mathematical formulations of these economic games treat agent utility as derived from the state rather than direct from an action, creating a rich, dynamic modeling framework. Simulations may be run with a range of initial conditions and parameters for states, behaviors, mechanisms, and environmental processes to understand and visualize network behavior under various conditions. Support for A/B testing policies, Monte Carlo analysis, and other common numerical methods is provided. \n",
    "\n",
    "What that essentially means is cadCAD allows us to use code to help solidify our conceptualized ideas and run them to see if the outcome meets our expectations. We can then iteratively refine our work until we have constructed a model that closely reflects reality at the start of the model, and see how it evolves. We can then use these results to inform business decisions."
   ]
  },
  {
   "cell_type": "code",
   "execution_count": 2,
   "metadata": {},
   "outputs": [],
   "source": [
    "# import libraries\n",
    "import pandas as pd\n",
    "import numpy as np\n",
    "import matplotlib \n",
    "from tabulate import tabulate\n",
    "from cadCAD.engine import ExecutionMode, ExecutionContext, Executor\n",
    "from IPython.display import display\n",
    "import ipywidgets as widgets\n",
    "from cadCAD import configs\n",
    "import cadCadFunctions as c2F\n",
    "import matplotlib.pyplot as plt\n",
    "\n",
    "pd.set_option('display.float_format', lambda x: '%.3f' % x)\n",
    "\n",
    "%matplotlib inline\n",
    "\n",
    "exec_mode = ExecutionMode()"
   ]
  },
  {
   "cell_type": "markdown",
   "metadata": {},
   "source": [
    "## Build individual components \n",
    "\n",
    "Before we create a holistic model that takes into account all of the individual components and how they interact in our 'dynamic system', we will construct below individual components and explain their structure."
   ]
  },
  {
   "cell_type": "code",
   "execution_count": 3,
   "metadata": {},
   "outputs": [
    {
     "data": {
      "application/vnd.jupyter.widget-view+json": {
       "model_id": "d04b62165c4c4651945476db6bbed2a4",
       "version_major": 2,
       "version_minor": 0
      },
      "text/plain": [
       "FloatSlider(value=100000.0, continuous_update=False, description='VC $', max=1000000.0, step=10000.0)"
      ]
     },
     "metadata": {},
     "output_type": "display_data"
    },
    {
     "data": {
      "application/vnd.jupyter.widget-view+json": {
       "model_id": "c98fa1694a994e74b8475d860fd983ea",
       "version_major": 2,
       "version_minor": 0
      },
      "text/plain": [
       "FloatSlider(value=1.0, continuous_update=False, description='Sales Price', max=3.0, min=0.5)"
      ]
     },
     "metadata": {},
     "output_type": "display_data"
    },
    {
     "data": {
      "application/vnd.jupyter.widget-view+json": {
       "model_id": "f7cc41f2149b45769db86ef738340eb9",
       "version_major": 2,
       "version_minor": 0
      },
      "text/plain": [
       "FloatSlider(value=5000.0, continuous_update=False, description='Overhead $', max=15000.0, min=100.0)"
      ]
     },
     "metadata": {},
     "output_type": "display_data"
    }
   ],
   "source": [
    "#VC investment money, per round\n",
    "vcRoundFundingWidget = widgets.FloatSlider(\n",
    "    value=100000,\n",
    "    min=0,\n",
    "    max=1000000,\n",
    "    step=10000,\n",
    "    description='VC $',\n",
    "    disabled=False,\n",
    "    continuous_update=False,\n",
    "    orientation='horizontal',\n",
    "    readout=True,\n",
    "    #readout_format='.1f',\n",
    ")\n",
    "\n",
    "display(vcRoundFundingWidget)\n",
    "\n",
    "# price per transaction\n",
    "priceWidget = widgets.FloatSlider(\n",
    "    value=1,\n",
    "    min=.5,\n",
    "    max=3,\n",
    "    step=.1,\n",
    "    description='Sales Price',\n",
    "    disabled=False,\n",
    "    continuous_update=False,\n",
    "    orientation='horizontal',\n",
    "    readout=True,\n",
    "    #readout_format='.1f',\n",
    ")\n",
    "\n",
    "display(priceWidget)\n",
    "\n",
    "# Overhead change per 30 days\n",
    "overHeadCostsWidget = widgets.FloatSlider(\n",
    "    value=5000,\n",
    "    min=100,\n",
    "    max=15000,\n",
    "    step=.1,\n",
    "    description='Overhead $',\n",
    "    disabled=False,\n",
    "    continuous_update=False,\n",
    "    orientation='horizontal',\n",
    "    readout=True,\n",
    "    #readout_format='.1f',\n",
    ")\n",
    "\n",
    "display(overHeadCostsWidget)"
   ]
  },
  {
   "cell_type": "markdown",
   "metadata": {},
   "source": [
    "### Transaction Growth Rate\n",
    "We construct a stochastic (random) s-shaped growth curve to represent the transaction volume of the ecosystem. "
   ]
  },
  {
   "cell_type": "code",
   "execution_count": 3,
   "metadata": {},
   "outputs": [
    {
     "data": {
      "text/plain": [
       "[(0, 102461.78804558422),\n",
       " Text(0, 0.5, 'volume'),\n",
       " Text(0.5, 0, 'time step'),\n",
       " Text(0.5, 1.0, 'Stochastic Growth Process')]"
      ]
     },
     "execution_count": 3,
     "metadata": {},
     "output_type": "execute_result"
    },
    {
     "data": {
      "image/png": "[encoded data removed]",
      "text/plain": [
       "<Figure size 432x288 with 1 Axes>"
      ]
     },
     "metadata": {
      "needs_background": "light"
     },
     "output_type": "display_data"
    }
   ],
   "source": [
    "eta = .33\n",
    "tampw = 100000 \n",
    "\n",
    "length = range(36)\n",
    "v = np.zeros(length[-1])\n",
    "v[0] = 100\n",
    "for i in length[1:-1]:\n",
    "    v[i] = v[i-1]*(1+2*eta*np.random.rand()*(1-v[i-1]/tampw))\n",
    "\n",
    "fig, ax = plt.subplots( nrows=1, ncols=1 )\n",
    "ax.plot(v,label='growth rate')\n",
    "ax.set(xlabel='time step', ylabel='volume',\n",
    "       title='Stochastic Growth Process',ylim = 0)\n"
   ]
  },
  {
   "cell_type": "code",
   "execution_count": 4,
   "metadata": {},
   "outputs": [
    {
     "data": {
      "text/plain": [
       "[(0, 47477.57922025708),\n",
       " Text(0, 0.5, 'volume'),\n",
       " Text(0.5, 0, 'time step'),\n",
       " Text(0.5, 1.0, 'Stochastic Growth Process')]"
      ]
     },
     "execution_count": 4,
     "metadata": {},
     "output_type": "execute_result"
    },
    {
     "data": {
      "image/png": "[encoded data removed]",
      "text/plain": [
       "<Figure size 432x288 with 1 Axes>"
      ]
     },
     "metadata": {
      "needs_background": "light"
     },
     "output_type": "display_data"
    }
   ],
   "source": [
    "eta = .33\n",
    "tampw = 100000 \n",
    "\n",
    "length = range(36)\n",
    "v = np.zeros(length[-1])\n",
    "v[0] = 100\n",
    "for i in length[1:-1]:\n",
    "    #v[i] = v[i-1]*(1+2*eta*np.random.rand()*(1-v[i-1]/tampw))\n",
    "    v[i] = v[i-1] *(1+1.5*eta*np.random.rand())\n",
    "\n",
    "fig, ax = plt.subplots( nrows=1, ncols=1 )\n",
    "ax.plot(v,label='growth rate')\n",
    "ax.set(xlabel='time step', ylabel='volume',\n",
    "       title='Stochastic Growth Process',ylim = 0)"
   ]
  },
  {
   "cell_type": "markdown",
   "metadata": {},
   "source": [
    "### Product Cost\n",
    "We create a random process to represent the growth of the cost of production, due to inflation, etc over time."
   ]
  },
  {
   "cell_type": "code",
   "execution_count": null,
   "metadata": {},
   "outputs": [
    {
     "data": {
      "image/png": "[encoded data removed]",
      "text/plain": [
       "<Figure size 432x288 with 1 Axes>"
      ]
     },
     "metadata": {
      "needs_background": "light"
     },
     "output_type": "display_data"
    }
   ],
   "source": [
    "alpha = .5\n",
    "beta = .2\n",
    "length = range(36)\n",
    "p = np.zeros(length[-1])\n",
    "p[0] = .3\n",
    "for i in length[1:-1]:\n",
    "    p[i] = alpha * p[i-1]+beta*np.random.rand() - .01\n",
    "    \n",
    "fig, ax = plt.subplots(nrows=1, ncols=1 )\n",
    "ax.plot(p,label='cost')\n",
    "ax.set(xlabel='time step', ylabel='cost',\n",
    "       title='Product Cost Stochastic Process',ylim = 0)\n",
    "\n",
    "#fig = USDToSDR.plot(grid=True).get_figure()\n",
    "fig.savefig('images/productCost.png')\n",
    "# plt.plot(p,label='cost')\n",
    "# plt.title('Product Cost Stochastic Process')\n",
    "# plt.xlabel('time step')\n",
    "# plt.ylabel('volume')\n",
    "# plt.ylim(0)\n",
    "# plt.legend()"
   ]
  },
  {
   "cell_type": "code",
   "execution_count": null,
   "metadata": {},
   "outputs": [
    {
     "data": {
      "image/png": "[encoded data removed]",
      "text/plain": [
       "<Figure size 1080x360 with 2 Axes>"
      ]
     },
     "metadata": {
      "needs_background": "light"
     },
     "output_type": "display_data"
    }
   ],
   "source": [
    "plot = pd.DataFrame({'Stochastic Growth Process':v,'Product Cost Stochastic Process':p})\n",
    "\n",
    "fig, axes = plt.subplots(nrows=1, ncols=2,figsize=(15, 5),sharey=False)\n",
    "fig.tight_layout(pad=8)\n",
    "#fig.suptitle(\"Components\", fontsize=16)\n",
    "\n",
    "plot.plot(y='Stochastic Growth Process',title='Stochastic Growth Process',logy=False,ax=axes[0],grid=True)\n",
    "plot.plot(y='Product Cost Stochastic Process',title='Product Cost Stochastic Process',logy=False,ax=axes[1],grid=True)\n",
    "\n",
    "fig.savefig('images/components.eps', format='eps', dpi=300)"
   ]
  },
  {
   "cell_type": "markdown",
   "metadata": {},
   "source": [
    "## Configuration file"
   ]
  },
  {
   "cell_type": "code",
   "execution_count": null,
   "metadata": {},
   "outputs": [],
   "source": [
    "# import libraries\n",
    "from decimal import Decimal\n",
    "import numpy as np\n",
    "from datetime import timedelta\n",
    "from cadCAD.configuration import append_configs\n",
    "from cadCAD.configuration.utils import proc_trigger, bound_norm_random, ep_time_step, config_sim\n",
    "\n",
    "seeds = {\n",
    "    # 'z': np.random.RandomState(1),\n",
    "    'a': np.random.RandomState(2)\n",
    "}\n",
    "\n",
    "sim_config = config_sim({\n",
    "    'T': range(36), #number of discrete iterations in each experiement\n",
    "    'N': 100, #number of times the simulation will be run (Monte Carlo runs)\n",
    "})\n",
    "\n",
    "# parameters (later add tuning)\n",
    "eta = .33 # for tx_volume_generator\n",
    "tampw = 100000 # transactions limit\n",
    "alpha = .5 # for data acquisition cost generator\n",
    "beta = .2 # for data acquisition cost generator\n",
    "costDecrease = .015 # decrease in cost\n",
    "price = priceWidget.value # sales price\n",
    "vcRoundFunding = vcRoundFundingWidget.value\n",
    "overHeadCosts = overHeadCostsWidget.value\n",
    "\n",
    "# external states\n",
    "#cell defines the model function for the tx_volume generator stochastic process\n",
    "def tx_volume_generator(_g, step, sL, s, _input):\n",
    "    y = 'tx_volume'\n",
    "    x = s['tx_volume']*(1+2*eta*np.random.rand()*(1-s['tx_volume']/tampw))\n",
    "    return (y, x)\n",
    "\n",
    "def product_cost_generator(_g, step, sL, s, _input):\n",
    "    y = 'product_cost'\n",
    "    x = alpha*s['product_cost']+beta*np.random.rand() - costDecrease\n",
    "    return (y, x)\n",
    "\n",
    "def investors_generator(_g, step, sL, s, _input):\n",
    "    y = 'seed_money'\n",
    "    if s['timestep'] == 1:\n",
    "        x = s['seed_money'] + vcRoundFunding\n",
    "    elif s['timestep'] == 10:\n",
    "        x = s['seed_money'] + vcRoundFunding\n",
    "#     elif s['timestep'] == 50:\n",
    "#         x = s['seed_money'] + 100000\n",
    "    else:\n",
    "        x = s['seed_money'] + 0\n",
    "    return (y, x)\n",
    "\n",
    "def update_overhead_costs(_g, step, sL, s, _input):\n",
    "    # Create step function for updating overhead costs\n",
    "    y = 'overhead_cost'\n",
    "    if s['timestep']%15 == 0:\n",
    "        x = s['overhead_cost'] + overHeadCosts\n",
    "    else:\n",
    "        x = s['overhead_cost'] + 0\n",
    "    return (y, x)\n",
    "\n",
    "def R_and_D(_g, step, sL, s, _input):\n",
    "    y = 'R&D'\n",
    "    if s['timestep']%17 == 0:\n",
    "        x = s['R&D'] + 1000\n",
    "    else:\n",
    "        x = s['R&D'] + 0\n",
    "    return (y, x) \n",
    "\n",
    "# define the time deltas for the discrete increments in the model\n",
    "ts_format = '%Y-%m-%d %H:%M:%S'\n",
    "t_delta = timedelta(days=30, minutes=0, seconds=0)\n",
    "def time_model(_g, step, sL, s, _input):\n",
    "    y = 'time'\n",
    "    x = ep_time_step(s, dt_str=s['time'], fromat_str=ts_format, _timedelta=t_delta)\n",
    "    return (y, x)\n",
    "\n",
    "\n",
    "# Behaviors\n",
    "def inflow(_g, step, sL, s):\n",
    "    # Receive money from relevant parties\n",
    "    return {'Receive': 1}\n",
    "\n",
    "def outflow(_g, step, sL, s):\n",
    "    # Pay relevant parties\n",
    "    return {'Pay': 1}\n",
    "\n",
    "def investors(_g, step, sL, s):\n",
    "    # Pay relevant parties\n",
    "    if s['timestep'] == 1:\n",
    "        return {'Invest': 1}\n",
    "    elif s['timestep'] == 10:\n",
    "        return {'Invest': 1}\n",
    "    else:\n",
    "        return {'Invest': 0}\n",
    "\n",
    "def metrics(_g, step, sL, s):\n",
    "    return {'Stat': 1}\n",
    "\n",
    "\n",
    "# Mechanisms\n",
    "def receive_fiat_from_consumers(_g, step, sL, s, _input):\n",
    "    y = 'fiat_reserve'\n",
    "    if _input['Receive'] == 1:\n",
    "        x = s['fiat_reserve'] + s['tx_volume'] * price\n",
    "    else:\n",
    "        x = s['fiat_reserve']\n",
    "    return (y, x)\n",
    "\n",
    "def receive_revenue_from_consumers(_g, step, sL, s, _input):\n",
    "    y = 'revenue'\n",
    "    if _input['Receive'] == 1:\n",
    "        x = s['tx_volume'] * price\n",
    "    else:\n",
    "        x = s['revenue']\n",
    "    return (y, x)\n",
    "\n",
    "\n",
    "def receive_fiat_from_investors(_g, step, sL, s, _input):\n",
    "    y = 'fiat_reserve'\n",
    "    if _input['Invest'] == 1:\n",
    "        x = s['fiat_reserve'] + s['seed_money']\n",
    "    else:\n",
    "        x = s['fiat_reserve']\n",
    "    return (y, x)\n",
    "\n",
    "def pay_fiat_to_producers(_g, step, sL, s, _input):\n",
    "    y = 'fiat_reserve'\n",
    "    if _input['Pay'] == 1:\n",
    "        x = s['fiat_reserve'] -  (s['product_cost'] * s['tx_volume']) \n",
    "        x = s['fiat_reserve']\n",
    "    return (y, x)\n",
    "\n",
    "def pay_investment_expenses(_g, step, sL, s, _input):\n",
    "    y = 'fiat_reserve'\n",
    "    if _input['Pay'] == 1:\n",
    "        x = s['fiat_reserve'] - s['R&D']\n",
    "    else:\n",
    "        x = s['fiat_reserve']\n",
    "    return (y, x)\n",
    "\n",
    "def pay_overhead_costs(_g, step, sL, s, _input):\n",
    "    y = 'fiat_reserve'\n",
    "    if _input['Pay'] == 1:\n",
    "        x = s['fiat_reserve'] - s['overhead_cost'] \n",
    "    else:\n",
    "        x = s['fiat_reserve']\n",
    "    return (y, x)\n",
    "\n",
    "# Metrics\n",
    "\n",
    "def COGS(_g, step, sL, s, _input):\n",
    "    y = 'COGS'\n",
    "    if _input['Stat'] == 1:\n",
    "        x = (s['product_cost'] * s['tx_volume']) \n",
    "    else:\n",
    "        x = s['COGS']\n",
    "    return (y, x)\n",
    "\n",
    "# Initial States\n",
    "genesis_states = {\n",
    "    'tx_volume': float(100), #unit: fiat\n",
    "    'product_cost': float(.3), #unit: fiat cost\n",
    "    'revenue': float(0), # revenue per month\n",
    "    'fiat_reserve': float(0),#unit: fiat\n",
    "    'overhead_cost': float(100), #unit: fiat per month\n",
    "    'seed_money': float(0),\n",
    "    'R&D': float(0), #per month\n",
    "    'COGS': float(0), #per month\n",
    "    'time': '2018-01-01 00:00:00'\n",
    "}\n",
    "\n",
    "exogenous_states = {\n",
    "    'time': time_model\n",
    "}\n",
    "\n",
    "env_processes = {\n",
    "}\n",
    "\n",
    "\n",
    "#build mechanism dictionary to \"wire up the circuit\"\n",
    "mechanisms = [\n",
    "    #'exogenous':\n",
    "    {\n",
    "        'policies':\n",
    "        {\n",
    "        },\n",
    "        'variables':\n",
    "        {\n",
    "            'tx_volume': tx_volume_generator,\n",
    "            'product_cost': product_cost_generator,\n",
    "            'seed_money': investors_generator,\n",
    "            'overhead_cost': update_overhead_costs,\n",
    "            'R&D': R_and_D\n",
    "        }\n",
    "\n",
    "    },\n",
    "    #'fiat inflow':\n",
    "    {\n",
    "        'policies':\n",
    "        {\n",
    "            'action': inflow\n",
    "        },\n",
    "        'variables':\n",
    "        {\n",
    "            'fiat_reserve': receive_fiat_from_consumers,\n",
    "            'revenue': receive_revenue_from_consumers\n",
    "        }\n",
    "    },\n",
    "\n",
    "    #'investors':\n",
    "    {\n",
    "        'policies':\n",
    "        {\n",
    "            'action': investors\n",
    "        },\n",
    "        'variables':\n",
    "        {\n",
    "            'seed_money': receive_fiat_from_investors\n",
    "        }\n",
    "    },\n",
    "    #'fiat outflow':\n",
    "    {\n",
    "        'policies':\n",
    "        {\n",
    "            'action': outflow\n",
    "        },\n",
    "        'variables':\n",
    "        {\n",
    "            'fiat_reserve': pay_fiat_to_producers,\n",
    "            'fiat_reserve': pay_investment_expenses,\n",
    "            'fiat_reserve': pay_overhead_costs\n",
    "        }\n",
    "    },\n",
    "    #'metrics':\n",
    "    {\n",
    "        'policies':\n",
    "        {\n",
    "            'action': metrics\n",
    "        },\n",
    "        'variables':\n",
    "        {\n",
    "            'COGS': COGS\n",
    "        }\n",
    "    },\n",
    "\n",
    "]\n",
    "\n",
    "append_configs(\n",
    "    sim_configs=sim_config,\n",
    "    initial_state=genesis_states,\n",
    "    seeds=seeds,\n",
    "    raw_exogenous_states=exogenous_states,\n",
    "    env_processes=env_processes,\n",
    "    partial_state_update_blocks=mechanisms\n",
    ")\n"
   ]
  },
  {
   "cell_type": "code",
   "execution_count": null,
   "metadata": {},
   "outputs": [
    {
     "name": "stdout",
     "output_type": "stream",
     "text": [
      "single_proc: [<cadCAD.configuration.Configuration object at 0x7f55403bb2e8>]\n"
     ]
    }
   ],
   "source": [
    "# Run Cad^2\n",
    "\n",
    "first_config = configs \n",
    "single_proc_ctx = ExecutionContext(context=exec_mode.single_proc)\n",
    "run = Executor(exec_context=single_proc_ctx, configs=first_config)\n",
    "\n",
    "raw_result, tensor_field = run.main()\n",
    "df = pd.DataFrame(raw_result)\n",
    "df = df.round(2)"
   ]
  },
  {
   "cell_type": "markdown",
   "metadata": {},
   "source": [
    "## Results\n",
    "In the background, we finish defining a configuration file that contains the mathematical specifications and simulation commands, examples of which are shown in the previous section, and we run our model.\n",
    "We look at the results at the beginning and the end of our model to see we started on 2019-03-01 and allowed our model to evolve until 2020-02-24. "
   ]
  },
  {
   "cell_type": "code",
   "execution_count": 4,
   "metadata": {},
   "outputs": [
    {
     "ename": "NameError",
     "evalue": "name 'df' is not defined",
     "output_type": "error",
     "traceback": [
      "\u001b[0;31m---------------------------------------------------------------------------\u001b[0m",
      "\u001b[0;31mNameError\u001b[0m                                 Traceback (most recent call last)",
      "\u001b[0;32m<ipython-input-4-a29405eb924b>\u001b[0m in \u001b[0;36m<module>\u001b[0;34m\u001b[0m\n\u001b[0;32m----> 1\u001b[0;31m \u001b[0mdf\u001b[0m\u001b[0;34m.\u001b[0m\u001b[0mhead\u001b[0m\u001b[0;34m(\u001b[0m\u001b[0;36m5\u001b[0m\u001b[0;34m)\u001b[0m\u001b[0;34m\u001b[0m\u001b[0;34m\u001b[0m\u001b[0m\n\u001b[0m",
      "\u001b[0;31mNameError\u001b[0m: name 'df' is not defined"
     ]
    }
   ],
   "source": [
    "df.head(5)"
   ]
  },
  {
   "cell_type": "code",
   "execution_count": null,
   "metadata": {},
   "outputs": [],
   "source": [
    "df.tail(5)"
   ]
  },
  {
   "cell_type": "code",
   "execution_count": null,
   "metadata": {},
   "outputs": [],
   "source": [
    "mean_df,median_df,std_df,min_df = c2F.aggregate_runs(df,'timestep')"
   ]
  },
  {
   "cell_type": "markdown",
   "metadata": {},
   "source": [
    "We examine the Fiat Reserve in more depth and fit a line a to the plot to show the trajectory. As we can see from the plot below, the fiat reserve is increasing throughout the time period studied. "
   ]
  },
  {
   "cell_type": "code",
   "execution_count": null,
   "metadata": {},
   "outputs": [],
   "source": [
    "coefficients, residuals, _, _, _ = np.polyfit(range(len(mean_df['fiat_reserve'])),mean_df['fiat_reserve'],1,full=True)\n",
    "plt.plot(mean_df['fiat_reserve'],label='fiat_reserve')\n",
    "plt.plot([coefficients[0]*x + coefficients[1] for x in range(len(mean_df['fiat_reserve']))],label='trend line')\n",
    "plt.title('Fiat Reserve')\n",
    "plt.xlabel('time step')\n",
    "plt.ylabel('volume')\n",
    "#plt.ylim(0)\n",
    "plt.legend()"
   ]
  },
  {
   "cell_type": "markdown",
   "metadata": {},
   "source": [
    "We also examine the transaction volume, and as it is an exogenous (external to the system) process, it follows the same s-shaped curve we built as an individual component above. "
   ]
  },
  {
   "cell_type": "code",
   "execution_count": null,
   "metadata": {},
   "outputs": [],
   "source": [
    "coefficients, residuals, _, _, _ = np.polyfit(range(len(mean_df['tx_volume'])),mean_df['tx_volume'],1,full=True)\n",
    "plt.plot(mean_df['tx_volume'],label='tx_volume')\n",
    "plt.plot([coefficients[0]*x + coefficients[1] for x in range(len(mean_df['tx_volume']))],label='trend line')\n",
    "plt.title('Transaction Volume')\n",
    "plt.xlabel('time step')\n",
    "plt.ylabel('volume')\n",
    "plt.ylim(0)\n",
    "plt.legend()"
   ]
  },
  {
   "cell_type": "code",
   "execution_count": null,
   "metadata": {},
   "outputs": [],
   "source": [
    "coefficients, residuals, _, _, _ = np.polyfit(range(len(mean_df['revenue'])),mean_df['revenue'],1,full=True)\n",
    "plt.plot(mean_df['revenue'],label='revenue')\n",
    "plt.plot([coefficients[0]*x + coefficients[1] for x in range(len(mean_df['revenue']))],label='trend line')\n",
    "plt.title('Revenue')\n",
    "plt.xlabel('time step')\n",
    "plt.ylabel('$')\n",
    "plt.ylim(0)\n",
    "plt.legend()"
   ]
  },
  {
   "cell_type": "code",
   "execution_count": null,
   "metadata": {},
   "outputs": [],
   "source": [
    "coefficients, residuals, _, _, _ = np.polyfit(range(len(mean_df['product_cost'])),mean_df['product_cost'],1,full=True)\n",
    "plt.plot(mean_df['product_cost'],label='Product Cost')\n",
    "plt.plot([coefficients[0]*x + coefficients[1] for x in range(len(mean_df['product_cost']))],label='trend line')\n",
    "plt.title('Product Cost')\n",
    "plt.xlabel('time step')\n",
    "plt.ylabel('volume')\n",
    "plt.legend()"
   ]
  },
  {
   "cell_type": "markdown",
   "metadata": {},
   "source": [
    "We plotted the results of the simulation below in figure. We can see that the Fiat Reserve initially decreased into negative territory while the company was getting started (we are assuming the model starts at day one of the company, or new business venture). Initially the company receives an injection of capital through VC seed money, although this trails off over time as the company matures. The overhead costs steadily increase through the simulation, however the product cost varies significantly, but is on downward sloping trend and the company becomes more efficient. We see that revenue starts off at 0 and takes a while to ramp up (as would be expected for a start-up, hence the initial cash flow problem). And finally, we examine the transaction volume, and as it is an exogenous (external to the system) process, it follows the same s-shaped curve we built as an individual component above. "
   ]
  },
  {
   "cell_type": "code",
   "execution_count": null,
   "metadata": {},
   "outputs": [],
   "source": [
    "# Calculate the metrics\n",
    "mean_df['RevenueQuarterlyPercentageChange']= mean_df['revenue'].pct_change(periods=3)\n",
    "mean_df['GrossMargin'] = df['revenue'] - df['COGS']\n",
    "mean_df['EBITDA'] = df['revenue'] - df['COGS'] - df['overhead_cost'] - df['R&D']"
   ]
  },
  {
   "cell_type": "code",
   "execution_count": null,
   "metadata": {},
   "outputs": [],
   "source": [
    "mean_df.head()"
   ]
  },
  {
   "cell_type": "code",
   "execution_count": null,
   "metadata": {},
   "outputs": [],
   "source": [
    "mean_df.tail()"
   ]
  },
  {
   "cell_type": "code",
   "execution_count": null,
   "metadata": {},
   "outputs": [],
   "source": [
    "fig, axes = plt.subplots(nrows=5, ncols=2,figsize=(15, 15),sharey=False)\n",
    "fig.tight_layout(pad=8)\n",
    "\n",
    "fig.suptitle(\"Monte Carlo 100 Run Mean Simulation Results\", fontsize=16)\n",
    "\n",
    "mean_df.plot(x = 'timestep',y='fiat_reserve',title='Fiat Reserve Balance',logy=False,ax=axes[0,0],grid=True)\n",
    "mean_df.plot(x = 'timestep',y='seed_money',title='Seed Money Inflow Balance',logy=False,ax=axes[0,1],grid=True)\n",
    "mean_df.plot(x = 'timestep',y='overhead_cost',title='Overhead Cost per month',logy=False,ax=axes[1,0],grid=True)\n",
    "mean_df.plot(x = 'timestep',y='COGS',title='COGS',logy=False,ax=axes[1,1],grid=True)\n",
    "mean_df.plot(x = 'timestep',y='revenue',title='Revenue per month',logy=False,ax=axes[2,0],grid=True)\n",
    "mean_df.plot(x = 'timestep',y='tx_volume',title='Transaction Volume per month',logy=False,ax=axes[2,1],grid=True)\n",
    "mean_df.plot(x = 'timestep',y='product_cost',title='Product Cost per transaction',logy=False,ax=axes[3,0],grid=True)\n",
    "mean_df.plot(x = 'timestep',y='R&D',title='R&D per month',logy=False,ax=axes[3,1],grid=True)\n",
    "#mean_df.plot(x = 'timestep',y='RevenueQuarterlyPercentageChange',title='Revenue Percentage Change per quarter',logy=False,ax=axes[3,1],grid=True)\n",
    "mean_df.plot(x = 'timestep',y='GrossMargin',title='Gross Margin per month',logy=False,ax=axes[4,0],grid=True)\n",
    "mean_df.plot(x = 'timestep',y='EBITDA',title='EBITDA per month',logy=False,ax=axes[4,1],grid=True)\n",
    "fig.savefig('images/Results.eps', format='eps', dpi=300)"
   ]
  },
  {
   "cell_type": "markdown",
   "metadata": {},
   "source": [
    "## Conclusion\n",
    "\n",
    "We have walked through a basic dynamical system ecosystem model taking in some external variables and seeing how the system responds to these signals and evolves. We observe that the policy and pricing incentives built into the model represent a successful business model. Now, this is an extremely simplistic model and lacks more rigorous assumptions and testing, but provides an excellent starting point for showing how we model dynamic complex systems. Significantly what makes our modeling approach so powerful, is we can A/B Test, or in other words, try slightly different policies and see how the system interacts and how the outputs we are concerned about respond. It is a very effective mechanism for making business decisions. Our methodologies along with the cadCAD tool allow us to represent a company’s current business model along with the desired future state and help the company make informed, rigorously tested decisions on how to get you from point a to point b."
   ]
  }
 ],
 "metadata": {
  "kernelspec": {
   "display_name": "Python 3",
   "language": "python",
   "name": "python3"
  },
  "language_info": {
   "codemirror_mode": {
    "name": "ipython",
    "version": 3
   },
   "file_extension": ".py",
   "mimetype": "text/x-python",
   "name": "python",
   "nbconvert_exporter": "python",
   "pygments_lexer": "ipython3",
   "version": "3.6.7"
  }
 },
 "nbformat": 4,
 "nbformat_minor": 2
}
